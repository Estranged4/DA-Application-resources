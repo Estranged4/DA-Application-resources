{
 "cells": [
  {
   "cell_type": "markdown",
   "id": "f11645f3",
   "metadata": {},
   "source": [
    "## Way 2: SQL style"
   ]
  },
  {
   "cell_type": "code",
   "execution_count": 1,
   "id": "72716180",
   "metadata": {},
   "outputs": [],
   "source": [
    "# Call packages\n",
    "import numpy as np\n",
    "import pandas as pd\n",
    "import datetime as dt"
   ]
  },
  {
   "cell_type": "code",
   "execution_count": 2,
   "id": "b4cdade6",
   "metadata": {},
   "outputs": [],
   "source": [
    "# Read data\n",
    "prices = pd.read_csv('prices.csv')\n",
    "sales = pd.read_csv('sales.csv')"
   ]
  },
  {
   "cell_type": "code",
   "execution_count": 3,
   "id": "fb9b756f",
   "metadata": {},
   "outputs": [],
   "source": [
    "## Standardize datetime type\n",
    "prices['updated_at'] = pd.to_datetime(prices['updated_at'])\n",
    "sales['ordered_at'] = pd.to_datetime(pd.to_datetime(sales['ordered_at']).dt.strftime('%Y-%m-%d %H:%M:%S'))"
   ]
  },
  {
   "cell_type": "code",
   "execution_count": 4,
   "id": "39f110d5",
   "metadata": {},
   "outputs": [],
   "source": [
    "# #### Ý tưởng\n",
    "# Dùng SQL: LEAD(updated_at,1, NOW()) \n",
    "#           OVER(PARTITION BY product_id ORDER BY product_id, updated_at) AS old_date\n",
    "\n",
    "# Tạo ra bảng kiểu như:   --id---old_price---new_price---old_date---new_date\n",
    "\n",
    "# Nếu Sales.time nằm trong khoảng từ old_date đến new_date thì price sẽ là new_price\n",
    "# Nếu không có time nào như thế tức là đơn hàng chưa trải qua lần update price nào, price sẽ là\n",
    "# old_price của lần update sớm nhất"
   ]
  },
  {
   "cell_type": "code",
   "execution_count": 5,
   "id": "d0211f8b",
   "metadata": {
    "scrolled": true
   },
   "outputs": [],
   "source": [
    "## Create a reference-price table\n",
    "prices = prices.sort_values(['product_id', 'updated_at'])\n",
    "prices['new_date'] = prices.groupby('product_id')\\\n",
    "                ['updated_at'].shift(-1, fill_value= dt.datetime.now().strftime(\"%Y-%m-%d %H:%M:%S\"))"
   ]
  },
  {
   "cell_type": "code",
   "execution_count": 6,
   "id": "0c99ec67",
   "metadata": {},
   "outputs": [],
   "source": [
    "## rename for easily using\n",
    "prices = prices.rename(columns= {'updated_at': 'old_date'})"
   ]
  },
  {
   "cell_type": "code",
   "execution_count": 7,
   "id": "173ebbbd",
   "metadata": {},
   "outputs": [
    {
     "data": {
      "text/html": [
       "<div>\n",
       "<style scoped>\n",
       "    .dataframe tbody tr th:only-of-type {\n",
       "        vertical-align: middle;\n",
       "    }\n",
       "\n",
       "    .dataframe tbody tr th {\n",
       "        vertical-align: top;\n",
       "    }\n",
       "\n",
       "    .dataframe thead th {\n",
       "        text-align: right;\n",
       "    }\n",
       "</style>\n",
       "<table border=\"1\" class=\"dataframe\">\n",
       "  <thead>\n",
       "    <tr style=\"text-align: right;\">\n",
       "      <th></th>\n",
       "      <th>product_id</th>\n",
       "      <th>old_price</th>\n",
       "      <th>new_price</th>\n",
       "      <th>old_date</th>\n",
       "      <th>new_date</th>\n",
       "    </tr>\n",
       "  </thead>\n",
       "  <tbody>\n",
       "    <tr>\n",
       "      <th>0</th>\n",
       "      <td>64</td>\n",
       "      <td>270000</td>\n",
       "      <td>239000</td>\n",
       "      <td>2018-09-10 16:37:00</td>\n",
       "      <td>2022-10-16 16:38:08</td>\n",
       "    </tr>\n",
       "    <tr>\n",
       "      <th>4</th>\n",
       "      <td>3954203</td>\n",
       "      <td>68800</td>\n",
       "      <td>60000</td>\n",
       "      <td>2018-09-10 16:32:00</td>\n",
       "      <td>2018-09-11 11:54:00</td>\n",
       "    </tr>\n",
       "    <tr>\n",
       "      <th>1</th>\n",
       "      <td>3954203</td>\n",
       "      <td>60000</td>\n",
       "      <td>64000</td>\n",
       "      <td>2018-09-11 11:54:00</td>\n",
       "      <td>2018-09-15 03:49:00</td>\n",
       "    </tr>\n",
       "    <tr>\n",
       "      <th>3</th>\n",
       "      <td>3954203</td>\n",
       "      <td>64000</td>\n",
       "      <td>60500</td>\n",
       "      <td>2018-09-15 03:49:00</td>\n",
       "      <td>2018-09-17 22:59:00</td>\n",
       "    </tr>\n",
       "    <tr>\n",
       "      <th>2</th>\n",
       "      <td>3954203</td>\n",
       "      <td>60500</td>\n",
       "      <td>57500</td>\n",
       "      <td>2018-09-17 22:59:00</td>\n",
       "      <td>2022-10-16 16:38:08</td>\n",
       "    </tr>\n",
       "  </tbody>\n",
       "</table>\n",
       "</div>"
      ],
      "text/plain": [
       "   product_id  old_price  new_price            old_date            new_date\n",
       "0          64     270000     239000 2018-09-10 16:37:00 2022-10-16 16:38:08\n",
       "4     3954203      68800      60000 2018-09-10 16:32:00 2018-09-11 11:54:00\n",
       "1     3954203      60000      64000 2018-09-11 11:54:00 2018-09-15 03:49:00\n",
       "3     3954203      64000      60500 2018-09-15 03:49:00 2018-09-17 22:59:00\n",
       "2     3954203      60500      57500 2018-09-17 22:59:00 2022-10-16 16:38:08"
      ]
     },
     "execution_count": 7,
     "metadata": {},
     "output_type": "execute_result"
    }
   ],
   "source": [
    "## see what we have:\n",
    "prices.head()"
   ]
  },
  {
   "cell_type": "code",
   "execution_count": 8,
   "id": "9e48d06b",
   "metadata": {},
   "outputs": [],
   "source": [
    "## Define function to return price\n",
    "def return_price(id, time):\n",
    "    for i in prices.index:\n",
    "#         if time between old_date & new_date, price is new_date\n",
    "        if  (id == prices.product_id[i]) & ((time >= prices.old_date[i]) & (time < prices.new_date[i])):\n",
    "            price_return = prices.new_price[i]\n",
    "            break    \n",
    "#         if not, dueto arranged dataframe, price will be the old_price of the earliest updated price time\n",
    "        elif (id == prices.product_id[i]) & (time <= prices.old_date[i]):  \n",
    "            price_return = prices.old_price[i]\n",
    "            break\n",
    "    return price_return"
   ]
  },
  {
   "cell_type": "code",
   "execution_count": 9,
   "id": "89441de1",
   "metadata": {},
   "outputs": [
    {
     "name": "stderr",
     "output_type": "stream",
     "text": [
      "C:\\Users\\Admin\\AppData\\Local\\Temp\\ipykernel_3256\\3144351881.py:5: SettingWithCopyWarning: \n",
      "A value is trying to be set on a copy of a slice from a DataFrame\n",
      "\n",
      "See the caveats in the documentation: https://pandas.pydata.org/pandas-docs/stable/user_guide/indexing.html#returning-a-view-versus-a-copy\n",
      "  sales.price[i] = return_price(sales.product_id[i], sales.ordered_at[i])\n"
     ]
    }
   ],
   "source": [
    "## A similar problem as Way1\n",
    "sales['price'] = pd.Series(dtype='int64')\n",
    "\n",
    "for i in sales.index:\n",
    "         sales.price[i] = return_price(sales.product_id[i], sales.ordered_at[i])"
   ]
  },
  {
   "cell_type": "code",
   "execution_count": 10,
   "id": "ded5cac8",
   "metadata": {},
   "outputs": [],
   "source": [
    "# price_returned_array = pd.array([]).astype('int64')\n",
    "# for i in sales.index:\n",
    "#     price_returned = return_price(sales.product_id[i], sales.ordered_at[i])\n",
    "#     price_returned_array = np.append(price_returned_array, price_returned)\n",
    "    \n",
    "# sales['price'] = price_returned_array"
   ]
  },
  {
   "cell_type": "code",
   "execution_count": 11,
   "id": "8e534aa8",
   "metadata": {},
   "outputs": [],
   "source": [
    "sales['revenue'] = sales.quantity_ordered * sales.price"
   ]
  },
  {
   "cell_type": "code",
   "execution_count": 12,
   "id": "6367c333",
   "metadata": {},
   "outputs": [
    {
     "data": {
      "text/html": [
       "<div>\n",
       "<style scoped>\n",
       "    .dataframe tbody tr th:only-of-type {\n",
       "        vertical-align: middle;\n",
       "    }\n",
       "\n",
       "    .dataframe tbody tr th {\n",
       "        vertical-align: top;\n",
       "    }\n",
       "\n",
       "    .dataframe thead th {\n",
       "        text-align: right;\n",
       "    }\n",
       "</style>\n",
       "<table border=\"1\" class=\"dataframe\">\n",
       "  <thead>\n",
       "    <tr style=\"text-align: right;\">\n",
       "      <th></th>\n",
       "      <th></th>\n",
       "      <th>revenue</th>\n",
       "    </tr>\n",
       "    <tr>\n",
       "      <th>product_id</th>\n",
       "      <th>price</th>\n",
       "      <th></th>\n",
       "    </tr>\n",
       "  </thead>\n",
       "  <tbody>\n",
       "    <tr>\n",
       "      <th>64</th>\n",
       "      <th>239000.0</th>\n",
       "      <td>956000.0</td>\n",
       "    </tr>\n",
       "    <tr>\n",
       "      <th rowspan=\"3\" valign=\"top\">3954203</th>\n",
       "      <th>57500.0</th>\n",
       "      <td>57500.0</td>\n",
       "    </tr>\n",
       "    <tr>\n",
       "      <th>60000.0</th>\n",
       "      <td>180000.0</td>\n",
       "    </tr>\n",
       "    <tr>\n",
       "      <th>64000.0</th>\n",
       "      <td>640000.0</td>\n",
       "    </tr>\n",
       "    <tr>\n",
       "      <th rowspan=\"3\" valign=\"top\">3998909</th>\n",
       "      <th>15500.0</th>\n",
       "      <td>15500.0</td>\n",
       "    </tr>\n",
       "    <tr>\n",
       "      <th>16500.0</th>\n",
       "      <td>231000.0</td>\n",
       "    </tr>\n",
       "    <tr>\n",
       "      <th>17000.0</th>\n",
       "      <td>34000.0</td>\n",
       "    </tr>\n",
       "    <tr>\n",
       "      <th rowspan=\"6\" valign=\"top\">4085861</th>\n",
       "      <th>52000.0</th>\n",
       "      <td>1040000.0</td>\n",
       "    </tr>\n",
       "    <tr>\n",
       "      <th>53500.0</th>\n",
       "      <td>2140000.0</td>\n",
       "    </tr>\n",
       "    <tr>\n",
       "      <th>58000.0</th>\n",
       "      <td>2204000.0</td>\n",
       "    </tr>\n",
       "    <tr>\n",
       "      <th>60000.0</th>\n",
       "      <td>180000.0</td>\n",
       "    </tr>\n",
       "    <tr>\n",
       "      <th>62500.0</th>\n",
       "      <td>1812500.0</td>\n",
       "    </tr>\n",
       "    <tr>\n",
       "      <th>67000.0</th>\n",
       "      <td>871000.0</td>\n",
       "    </tr>\n",
       "  </tbody>\n",
       "</table>\n",
       "</div>"
      ],
      "text/plain": [
       "                       revenue\n",
       "product_id price              \n",
       "64         239000.0   956000.0\n",
       "3954203    57500.0     57500.0\n",
       "           60000.0    180000.0\n",
       "           64000.0    640000.0\n",
       "3998909    15500.0     15500.0\n",
       "           16500.0    231000.0\n",
       "           17000.0     34000.0\n",
       "4085861    52000.0   1040000.0\n",
       "           53500.0   2140000.0\n",
       "           58000.0   2204000.0\n",
       "           60000.0    180000.0\n",
       "           62500.0   1812500.0\n",
       "           67000.0    871000.0"
      ]
     },
     "execution_count": 12,
     "metadata": {},
     "output_type": "execute_result"
    }
   ],
   "source": [
    "sales.pivot_table(\n",
    "    values= 'revenue',\n",
    "    index= ['product_id', 'price'],\n",
    "    aggfunc= sum\n",
    ")"
   ]
  },
  {
   "cell_type": "markdown",
   "id": "532aacb7",
   "metadata": {},
   "source": [
    "### Few note:\n",
    "e thấy cách này nhìn gần gũi hơn vì nó giống sql nhưng mà với lượng data lớn thì việc sort, rồi update dataframe nhiều lần như vậy có vẻ không hay, em chỉ hoàn thiện phương án này vì e trót làm dở rồi thôi ạ:)), e thấy cách 1 của e vẫn hay hơn, k biết em nhận định vậy có đúng k"
   ]
  }
 ],
 "metadata": {
  "kernelspec": {
   "display_name": "Python 3 (Spyder)",
   "language": "python3",
   "name": "python3"
  },
  "language_info": {
   "codemirror_mode": {
    "name": "ipython",
    "version": 3
   },
   "file_extension": ".py",
   "mimetype": "text/x-python",
   "name": "python",
   "nbconvert_exporter": "python",
   "pygments_lexer": "ipython3",
   "version": "3.10.6"
  }
 },
 "nbformat": 4,
 "nbformat_minor": 5
}
