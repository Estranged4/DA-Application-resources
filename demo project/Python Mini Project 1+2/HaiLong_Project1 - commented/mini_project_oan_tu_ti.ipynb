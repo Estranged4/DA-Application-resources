{
 "cells": [
  {
   "cell_type": "markdown",
   "metadata": {},
   "source": [
    "### Bài em làm quá ổn nhé, minh họa cũng hay nữa, anh không có gì để comment cả :))"
   ]
  },
  {
   "cell_type": "code",
   "execution_count": null,
   "metadata": {},
   "outputs": [],
   "source": [
    "import random as rd\n",
    "import numpy as np"
   ]
  },
  {
   "cell_type": "code",
   "execution_count": null,
   "metadata": {},
   "outputs": [],
   "source": [
    "#### Trong project này chúng ta sẽ mô phỏng lại trò chơi dân gian oẳn tù tì.\n",
    "#### Cụ thể, chúng ta sẽ oẳn tù tì với máy. Máy sẽ chọn random búa, kéo, hoặc lá trong mỗi lần oẳn tù tì.\n",
    "#### Chúng ta sẽ chọn ra búa, kéo hoặc lá sau đó in ra kết quả. Trường hợp người chơi nhập sai, yêu cầu người chơi nhập lại theo đúng chính tả theo 3 sự lựa chọn búa, kéo, hoặc lá.\n",
    "#### Lưu ý, sau mỗi lượt chơi, máy sẽ random chọn lại búa kéo hoặc lá.\n",
    "\n",
    "#### Các kiến thức cover trong mini project này: Array, random, while loop, if - elif - else."
   ]
  },
  {
   "cell_type": "code",
   "execution_count": null,
   "metadata": {},
   "outputs": [],
   "source": [
    "# tạo array búa, kéo, lá\n",
    "play = np.array(['bua','keo','la'])\n",
    "\n",
    "# tạo list cho các trường hợp thắng/thua\n",
    "\n",
    "win =  [['bua','keo'], ['keo','la'],  ['la','bua']]\n",
    "lose = [['bua','la'],  ['keo','bua'], ['la','keo']]"
   ]
  },
  {
   "cell_type": "code",
   "execution_count": null,
   "metadata": {},
   "outputs": [],
   "source": [
    "# intro\n",
    "print('Oan tu ti!')\n",
    "print('Go \"keo\", \"bua\", \"la\" de choi; \"end\" de ket thuc')\n",
    "\n",
    "# tạo vòng lặp while để chạy chương trình\n",
    "while True:\n",
    "    \n",
    "    # máy chọn random\n",
    "#    np.random.seed(1)\n",
    "    com = np.random.choice(play)\n",
    "    print()\n",
    "    \n",
    "    # input\n",
    "    try:\n",
    "        you = input('Ban chon:')\n",
    "    except:\n",
    "        pass\n",
    "    \n",
    "    # input=end -> dừng chơi\n",
    "    if you == 'end':\n",
    "        print('Ket thuc tro choi')\n",
    "        break       \n",
    "\n",
    "    # input nhập sai -> nhập lại\n",
    "    if not(you in play):\n",
    "        print('!!!Cac lua chon la: keo\",\"bua\",\"la\"!!!')\n",
    "        continue\n",
    "    \n",
    "    # so sánh & trả kết quả\n",
    "    print('May tinh chon:', com)\n",
    "    \n",
    "    if [you,com] in win :\n",
    "        print('Ok you win, ban la nhat nhat ban roi')\n",
    "        \n",
    "    elif [you,com] in lose :\n",
    "        print('You lost!')\n",
    "        \n",
    "    else:\n",
    "        print('Draw!')\n",
    "    \n",
    "    print('Choi lai nao')"
   ]
  }
 ],
 "metadata": {
  "kernelspec": {
   "display_name": "Python 3",
   "language": "python",
   "name": "python3"
  },
  "language_info": {
   "codemirror_mode": {
    "name": "ipython",
    "version": 3
   },
   "file_extension": ".py",
   "mimetype": "text/x-python",
   "name": "python",
   "nbconvert_exporter": "python",
   "pygments_lexer": "ipython3",
   "version": "3.8.8"
  }
 },
 "nbformat": 4,
 "nbformat_minor": 2
}
