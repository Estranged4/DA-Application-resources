{
 "cells": [
  {
   "cell_type": "code",
   "execution_count": 205,
   "id": "8522e9e8",
   "metadata": {},
   "outputs": [],
   "source": [
    "import numpy as np\n",
    "import pandas as pd\n",
    "import datetime as dt"
   ]
  },
  {
   "cell_type": "code",
   "execution_count": 214,
   "id": "c04ec1ce",
   "metadata": {},
   "outputs": [],
   "source": [
    "prices = pd.read_csv('prices.csv')\n",
    "sales = pd.read_csv('sales.csv')"
   ]
  },
  {
   "cell_type": "code",
   "execution_count": 215,
   "id": "acf7a62c",
   "metadata": {},
   "outputs": [],
   "source": [
    "prices['updated_at'] = pd.to_datetime(prices['updated_at'])\n",
    "sales['ordered_at'] = pd.to_datetime(pd.to_datetime(sales['ordered_at']).dt.strftime('%Y-%m-%d %H:%M:%S'))"
   ]
  },
  {
   "cell_type": "code",
   "execution_count": 216,
   "id": "5c9c36ca",
   "metadata": {},
   "outputs": [
    {
     "name": "stdout",
     "output_type": "stream",
     "text": [
      "<class 'pandas.core.frame.DataFrame'>\n",
      "RangeIndex: 14 entries, 0 to 13\n",
      "Data columns (total 4 columns):\n",
      " #   Column      Non-Null Count  Dtype         \n",
      "---  ------      --------------  -----         \n",
      " 0   product_id  14 non-null     int64         \n",
      " 1   old_price   14 non-null     int64         \n",
      " 2   new_price   14 non-null     int64         \n",
      " 3   updated_at  14 non-null     datetime64[ns]\n",
      "dtypes: datetime64[ns](1), int64(3)\n",
      "memory usage: 576.0 bytes\n",
      "<class 'pandas.core.frame.DataFrame'>\n",
      "RangeIndex: 175 entries, 0 to 174\n",
      "Data columns (total 3 columns):\n",
      " #   Column            Non-Null Count  Dtype         \n",
      "---  ------            --------------  -----         \n",
      " 0   product_id        175 non-null    int64         \n",
      " 1   ordered_at        175 non-null    datetime64[ns]\n",
      " 2   quantity_ordered  175 non-null    int64         \n",
      "dtypes: datetime64[ns](1), int64(2)\n",
      "memory usage: 4.2 KB\n"
     ]
    }
   ],
   "source": [
    "prices.info()\n",
    "sales.info()"
   ]
  },
  {
   "cell_type": "code",
   "execution_count": 217,
   "id": "b6e1aa3e",
   "metadata": {},
   "outputs": [
    {
     "name": "stdout",
     "output_type": "stream",
     "text": [
      "    product_id  old_price  new_price          updated_at\n",
      "0           64     270000     239000 2018-09-10 16:37:00\n",
      "4      3954203      68800      60000 2018-09-10 16:32:00\n",
      "1      3954203      60000      64000 2018-09-11 11:54:00\n",
      "3      3954203      64000      60500 2018-09-15 03:49:00\n",
      "2      3954203      60500      57500 2018-09-17 22:59:00\n",
      "7      3998909      19000      17000 2018-09-10 16:35:00\n",
      "6      3998909      17000      15500 2018-09-13 06:43:00\n",
      "5      3998909      15500      16500 2018-09-16 05:09:00\n",
      "11     4085861      60000      53500 2018-09-11 08:51:00\n",
      "9      4085861      53500      67000 2018-09-12 03:51:00\n",
      "   product_id          ordered_at  quantity_ordered\n",
      "0     3998909 2018-09-18 17:51:00                 1\n",
      "1     3998909 2018-09-18 12:52:00                 1\n",
      "2     3998909 2018-09-18 11:33:00                 1\n",
      "3     3998909 2018-09-18 18:47:00                 1\n",
      "4     3998909 2018-09-18 17:36:00                 1\n",
      "5     3998909 2018-09-17 19:09:00                 1\n",
      "6     3998909 2018-09-18 16:02:00                 1\n",
      "7     3998909 2018-09-17 22:29:00                 1\n",
      "8     3998909 2018-09-18 19:46:00                 2\n",
      "9     3998909 2018-09-18 11:02:00                 1\n"
     ]
    }
   ],
   "source": [
    "print(\n",
    "    s_prices.head(10)\n",
    ")\n",
    "print(\n",
    "    sales.head(10)\n",
    ")"
   ]
  },
  {
   "cell_type": "code",
   "execution_count": 197,
   "id": "4534a93e",
   "metadata": {},
   "outputs": [],
   "source": [
    "s_prices = prices.sort_values(['product_id', 'updated_at'])"
   ]
  },
  {
   "cell_type": "code",
   "execution_count": 198,
   "id": "b47ba64b",
   "metadata": {},
   "outputs": [],
   "source": [
    "[id, time] = sales.loc[1, ['product_id', 'ordered_at']]"
   ]
  },
  {
   "cell_type": "code",
   "execution_count": 221,
   "id": "57c0cf24",
   "metadata": {},
   "outputs": [],
   "source": [
    "id = 3998909\n",
    "time = pd.to_datetime('2018-09-16 16:35:00')"
   ]
  },
  {
   "cell_type": "code",
   "execution_count": 108,
   "id": "6a7f8e5f",
   "metadata": {},
   "outputs": [
    {
     "name": "stdout",
     "output_type": "stream",
     "text": [
      "[3954203, Timestamp('2018-09-09 16:35:00')]\n"
     ]
    }
   ],
   "source": [
    "print([id, time])"
   ]
  },
  {
   "cell_type": "code",
   "execution_count": 107,
   "id": "49d57654",
   "metadata": {},
   "outputs": [
    {
     "name": "stdout",
     "output_type": "stream",
     "text": [
      "   product_id  old_price  new_price          updated_at\n",
      "1     3954203      60000      64000 2018-09-11 11:54:00\n",
      "2     3954203      60500      57500 2018-09-17 22:59:00\n",
      "3     3954203      64000      60500 2018-09-15 03:49:00\n",
      "4     3954203      68800      60000 2018-09-10 16:32:00\n"
     ]
    }
   ],
   "source": [
    "print(\n",
    "    prices[(prices.product_id == id)]\n",
    ")"
   ]
  },
  {
   "cell_type": "code",
   "execution_count": 34,
   "id": "30cb6f42",
   "metadata": {},
   "outputs": [
    {
     "name": "stdout",
     "output_type": "stream",
     "text": [
      "product_id                3998909\n",
      "old_price                   19000\n",
      "new_price                   17000\n",
      "updated_at    2018-09-10 16:35:00\n",
      "Name: 7, dtype: object\n"
     ]
    }
   ],
   "source": [
    "print(\n",
    "    s_prices[(s_prices.product_id == id)].iloc[0]\n",
    ")"
   ]
  },
  {
   "cell_type": "code",
   "execution_count": 39,
   "id": "1ae7c87d",
   "metadata": {},
   "outputs": [
    {
     "data": {
      "text/plain": [
       "Timestamp('2018-09-16 05:09:00')"
      ]
     },
     "execution_count": 39,
     "metadata": {},
     "output_type": "execute_result"
    }
   ],
   "source": [
    "def returned(id, time):\n",
    "    return s_prices[(id == s_prices.product_id) & (time > s_prices.updated_at )]\n",
    "returned(id, time)\n",
    "\n",
    "max(returned(id, time).updated_at)"
   ]
  },
  {
   "cell_type": "code",
   "execution_count": 51,
   "id": "80ef4bc2",
   "metadata": {},
   "outputs": [
    {
     "data": {
      "text/html": [
       "<div>\n",
       "<style scoped>\n",
       "    .dataframe tbody tr th:only-of-type {\n",
       "        vertical-align: middle;\n",
       "    }\n",
       "\n",
       "    .dataframe tbody tr th {\n",
       "        vertical-align: top;\n",
       "    }\n",
       "\n",
       "    .dataframe thead th {\n",
       "        text-align: right;\n",
       "    }\n",
       "</style>\n",
       "<table border=\"1\" class=\"dataframe\">\n",
       "  <thead>\n",
       "    <tr style=\"text-align: right;\">\n",
       "      <th></th>\n",
       "      <th>product_id</th>\n",
       "      <th>old_price</th>\n",
       "      <th>new_price</th>\n",
       "      <th>updated_at</th>\n",
       "    </tr>\n",
       "  </thead>\n",
       "  <tbody>\n",
       "  </tbody>\n",
       "</table>\n",
       "</div>"
      ],
      "text/plain": [
       "Empty DataFrame\n",
       "Columns: [product_id, old_price, new_price, updated_at]\n",
       "Index: []"
      ]
     },
     "execution_count": 51,
     "metadata": {},
     "output_type": "execute_result"
    }
   ],
   "source": [
    "prices[(id == prices.product_id) & (time > prices.updated_at )]"
   ]
  },
  {
   "cell_type": "code",
   "execution_count": 219,
   "id": "21781c42",
   "metadata": {},
   "outputs": [
    {
     "name": "stdout",
     "output_type": "stream",
     "text": [
      "3    60500\n",
      "Name: new_price, dtype: int64\n"
     ]
    }
   ],
   "source": [
    "max_update = prices[(id == prices.product_id) & (time > prices.updated_at )].updated_at.max()\n",
    "\n",
    "get_price = prices[(prices.product_id == id) & (prices.updated_at == max_update)].new_price\n",
    "\n",
    "if get_price.empty == True:\n",
    "    min_update = prices[(id == prices.product_id)].updated_at.min()\n",
    "    get_price = prices[(prices.product_id == id) & (prices.updated_at == min_update)].old_price\n",
    "print(get_price)\n",
    "\n"
   ]
  },
  {
   "cell_type": "code",
   "execution_count": 201,
   "id": "c761ccb7",
   "metadata": {},
   "outputs": [],
   "source": [
    "def returned(id, time):\n",
    "    max_update = prices[(id == prices.product_id) & (time > prices.updated_at )].updated_at.max()\n",
    "\n",
    "    get_price = prices[(prices.product_id == id) & (prices.updated_at == max_update)].new_price\n",
    "\n",
    "    if get_price.empty == True:\n",
    "        min_update = prices[(id == prices.product_id)].updated_at.min()\n",
    "        get_price = prices[(prices.product_id == id) & (prices.updated_at == min_update)].old_price\n",
    "    \n",
    "    return(get_price)"
   ]
  },
  {
   "cell_type": "code",
   "execution_count": 141,
   "id": "370b5a56",
   "metadata": {},
   "outputs": [
    {
     "name": "stdout",
     "output_type": "stream",
     "text": [
      "0      1\n",
      "1      1\n",
      "2      1\n",
      "3      1\n",
      "4      1\n",
      "      ..\n",
      "170    1\n",
      "171    1\n",
      "172    1\n",
      "173    1\n",
      "174    1\n",
      "Name: price_applied, Length: 175, dtype: int64\n"
     ]
    }
   ],
   "source": [
    "sales['price_applied'] = 1\n",
    "print(sales['price_applied'] )"
   ]
  },
  {
   "cell_type": "code",
   "execution_count": 202,
   "id": "9df7d1d3",
   "metadata": {},
   "outputs": [
    {
     "data": {
      "text/html": [
       "<div>\n",
       "<style scoped>\n",
       "    .dataframe tbody tr th:only-of-type {\n",
       "        vertical-align: middle;\n",
       "    }\n",
       "\n",
       "    .dataframe tbody tr th {\n",
       "        vertical-align: top;\n",
       "    }\n",
       "\n",
       "    .dataframe thead th {\n",
       "        text-align: right;\n",
       "    }\n",
       "</style>\n",
       "<table border=\"1\" class=\"dataframe\">\n",
       "  <thead>\n",
       "    <tr style=\"text-align: right;\">\n",
       "      <th></th>\n",
       "      <th>product_id</th>\n",
       "      <th>ordered_at</th>\n",
       "      <th>quantity_ordered</th>\n",
       "      <th>pricess</th>\n",
       "    </tr>\n",
       "  </thead>\n",
       "  <tbody>\n",
       "    <tr>\n",
       "      <th>0</th>\n",
       "      <td>3998909</td>\n",
       "      <td>2018-09-18 17:51:00</td>\n",
       "      <td>1</td>\n",
       "      <td>NaN</td>\n",
       "    </tr>\n",
       "    <tr>\n",
       "      <th>1</th>\n",
       "      <td>3998909</td>\n",
       "      <td>2018-09-18 12:52:00</td>\n",
       "      <td>1</td>\n",
       "      <td>NaN</td>\n",
       "    </tr>\n",
       "    <tr>\n",
       "      <th>2</th>\n",
       "      <td>3998909</td>\n",
       "      <td>2018-09-18 11:33:00</td>\n",
       "      <td>1</td>\n",
       "      <td>NaN</td>\n",
       "    </tr>\n",
       "    <tr>\n",
       "      <th>3</th>\n",
       "      <td>3998909</td>\n",
       "      <td>2018-09-18 18:47:00</td>\n",
       "      <td>1</td>\n",
       "      <td>NaN</td>\n",
       "    </tr>\n",
       "    <tr>\n",
       "      <th>4</th>\n",
       "      <td>3998909</td>\n",
       "      <td>2018-09-18 17:36:00</td>\n",
       "      <td>1</td>\n",
       "      <td>NaN</td>\n",
       "    </tr>\n",
       "  </tbody>\n",
       "</table>\n",
       "</div>"
      ],
      "text/plain": [
       "   product_id          ordered_at  quantity_ordered  pricess\n",
       "0     3998909 2018-09-18 17:51:00                 1      NaN\n",
       "1     3998909 2018-09-18 12:52:00                 1      NaN\n",
       "2     3998909 2018-09-18 11:33:00                 1      NaN\n",
       "3     3998909 2018-09-18 18:47:00                 1      NaN\n",
       "4     3998909 2018-09-18 17:36:00                 1      NaN"
      ]
     },
     "execution_count": 202,
     "metadata": {},
     "output_type": "execute_result"
    }
   ],
   "source": [
    "sales['pricess'] = pd.Series(dtype='int')\n",
    "\n",
    "sales.head()"
   ]
  },
  {
   "cell_type": "code",
   "execution_count": 174,
   "id": "0b740141",
   "metadata": {},
   "outputs": [],
   "source": [
    "new_series = pd.Series(dtype='int64')"
   ]
  },
  {
   "cell_type": "code",
   "execution_count": 203,
   "id": "2c344c7c",
   "metadata": {},
   "outputs": [
    {
     "name": "stderr",
     "output_type": "stream",
     "text": [
      "<ipython-input-203-ef8637449f0d>:2: SettingWithCopyWarning: \n",
      "A value is trying to be set on a copy of a slice from a DataFrame\n",
      "\n",
      "See the caveats in the documentation: https://pandas.pydata.org/pandas-docs/stable/user_guide/indexing.html#returning-a-view-versus-a-copy\n",
      "  sales.pricess[i] = returned(sales.product_id[i], sales.ordered_at[i])\n"
     ]
    }
   ],
   "source": [
    "for i in sales.index:\n",
    "         sales.pricess[i] = returned(sales.product_id[i], sales.ordered_at[i])\n",
    "    "
   ]
  },
  {
   "cell_type": "code",
   "execution_count": 222,
   "id": "f38b00e4",
   "metadata": {},
   "outputs": [],
   "source": [
    "def returned(id, time):\n",
    "    max_update = prices[(id == prices.product_id) & (time > prices.updated_at )].updated_at.max()\n",
    "\n",
    "    get_price = prices[(prices.product_id == id) & (prices.updated_at == max_update)].new_price\n",
    "\n",
    "    if get_price.empty == True:\n",
    "        min_update = prices[(id == prices.product_id)].updated_at.min()\n",
    "        get_price = prices[(prices.product_id == id) & (prices.updated_at == min_update)].old_price\n",
    "    \n",
    "    return(get_price)"
   ]
  },
  {
   "cell_type": "code",
   "execution_count": 223,
   "id": "54b3a77f",
   "metadata": {
    "scrolled": true
   },
   "outputs": [
    {
     "data": {
      "text/plain": [
       "5    16500\n",
       "Name: new_price, dtype: int64"
      ]
     },
     "execution_count": 223,
     "metadata": {},
     "output_type": "execute_result"
    }
   ],
   "source": [
    "returned(id, time)"
   ]
  },
  {
   "cell_type": "code",
   "execution_count": 256,
   "id": "cc4a7dcb",
   "metadata": {},
   "outputs": [],
   "source": [
    "    max_update = prices[(id == prices.product_id) & (time > prices.updated_at )].updated_at.max()\n",
    "\n",
    "    get_price = prices[(prices.product_id == id) & (prices.updated_at == max_update)].new_price\n",
    "\n",
    "    if get_price.empty == True:\n",
    "        min_update = prices[(id == prices.product_id)].updated_at.min()\n",
    "        get_price = prices[(prices.product_id == id) & (prices.updated_at == min_update)].old_price"
   ]
  },
  {
   "cell_type": "code",
   "execution_count": 257,
   "id": "b413ad78",
   "metadata": {},
   "outputs": [
    {
     "name": "stdout",
     "output_type": "stream",
     "text": [
      "5    16500\n",
      "Name: new_price, dtype: int64\n"
     ]
    }
   ],
   "source": [
    "print((get_price))"
   ]
  },
  {
   "cell_type": "code",
   "execution_count": 260,
   "id": "36c80241",
   "metadata": {},
   "outputs": [],
   "source": [
    "x = [0]*10\n",
    "y = pd.array(x)\n",
    "y[1] = get_price"
   ]
  },
  {
   "cell_type": "code",
   "execution_count": 261,
   "id": "f01af290",
   "metadata": {},
   "outputs": [
    {
     "name": "stdout",
     "output_type": "stream",
     "text": [
      "<IntegerArray>\n",
      "[0, 16500, 0, 0, 0, 0, 0, 0, 0, 0]\n",
      "Length: 10, dtype: Int64\n"
     ]
    }
   ],
   "source": [
    "print(\n",
    "    y\n",
    ")"
   ]
  }
 ],
 "metadata": {
  "kernelspec": {
   "display_name": "Python 3",
   "language": "python",
   "name": "python3"
  },
  "language_info": {
   "codemirror_mode": {
    "name": "ipython",
    "version": 3
   },
   "file_extension": ".py",
   "mimetype": "text/x-python",
   "name": "python",
   "nbconvert_exporter": "python",
   "pygments_lexer": "ipython3",
   "version": "3.8.8"
  }
 },
 "nbformat": 4,
 "nbformat_minor": 5
}
