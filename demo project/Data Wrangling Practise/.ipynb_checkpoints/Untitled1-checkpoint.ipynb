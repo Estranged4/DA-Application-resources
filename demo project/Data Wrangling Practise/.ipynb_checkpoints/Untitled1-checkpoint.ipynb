{
 "cells": [
  {
   "cell_type": "code",
   "execution_count": null,
   "id": "327aa804",
   "metadata": {},
   "outputs": [],
   "source": [
    "import numpy as np\n",
    "import pandas as pd\n",
    "import datetime as dt"
   ]
  },
  {
   "cell_type": "code",
   "execution_count": null,
   "id": "c04ec1ce",
   "metadata": {},
   "outputs": [],
   "source": [
    "prices = pd.read_csv('prices.csv')\n",
    "sales = pd.read_csv('sales.csv')"
   ]
  },
  {
   "cell_type": "code",
   "execution_count": null,
   "id": "10d609e7",
   "metadata": {},
   "outputs": [],
   "source": [
    "prices['updated_at'] = pd.to_datetime(prices['updated_at'])\n",
    "sales['ordered_at'] = pd.to_datetime(pd.to_datetime(sales['ordered_at']).dt.strftime('%Y-%m-%d %H:%M:%S'))"
   ]
  },
  {
   "cell_type": "code",
   "execution_count": null,
   "id": "7c0c41d0",
   "metadata": {},
   "outputs": [],
   "source": [
    "prices.info()\n",
    "sales.info()"
   ]
  },
  {
   "cell_type": "code",
   "execution_count": null,
   "id": "5ae3dae9",
   "metadata": {},
   "outputs": [],
   "source": [
    "def returned(id, time):\n",
    "    max_update = prices[(id == prices.product_id) & (time > prices.updated_at )].updated_at.max()\n",
    "\n",
    "    get_price = prices[(prices.product_id == id) & (prices.updated_at == max_update)].new_price\n",
    "\n",
    "    if get_price.empty == True:\n",
    "        min_update = prices[(id == prices.product_id)].updated_at.min()\n",
    "        get_price = prices[(prices.product_id == id) & (prices.updated_at == min_update)].old_price\n",
    "    \n",
    "    return(get_price)"
   ]
  },
  {
   "cell_type": "code",
   "execution_count": null,
   "id": "ccc8129c",
   "metadata": {},
   "outputs": [],
   "source": [
    "sales['price'] = pd.Series(dtype='int')"
   ]
  },
  {
   "cell_type": "code",
   "execution_count": null,
   "id": "d0eb98e5",
   "metadata": {},
   "outputs": [],
   "source": [
    "for i in sales.index:\n",
    "         sales.price[i] = returned(sales.product_id[i], sales.ordered_at[i])"
   ]
  },
  {
   "cell_type": "code",
   "execution_count": null,
   "id": "705140bc",
   "metadata": {},
   "outputs": [],
   "source": [
    "sales['revenue'] = sales.quantity_ordered * sales.price"
   ]
  },
  {
   "cell_type": "code",
   "execution_count": null,
   "id": "cb92eccd",
   "metadata": {},
   "outputs": [],
   "source": [
    "sales.head(20)"
   ]
  },
  {
   "cell_type": "code",
   "execution_count": null,
   "id": "fe31d171",
   "metadata": {},
   "outputs": [],
   "source": [
    "sales.groupby(['product_id', 'price'])['revenue'].sum()"
   ]
  },
  {
   "cell_type": "code",
   "execution_count": null,
   "id": "3e8ba3ca",
   "metadata": {},
   "outputs": [],
   "source": [
    "sales.pivot_table(\n",
    "    values= 'revenue',\n",
    "    index= ['product_id', 'price'],\n",
    "    aggfunc= sum\n",
    ")"
   ]
  }
 ],
 "metadata": {
  "kernelspec": {
   "display_name": "Python 3",
   "language": "python",
   "name": "python3"
  },
  "language_info": {
   "codemirror_mode": {
    "name": "ipython",
    "version": 3
   },
   "file_extension": ".py",
   "mimetype": "text/x-python",
   "name": "python",
   "nbconvert_exporter": "python",
   "pygments_lexer": "ipython3",
   "version": "3.8.8"
  }
 },
 "nbformat": 4,
 "nbformat_minor": 5
}
