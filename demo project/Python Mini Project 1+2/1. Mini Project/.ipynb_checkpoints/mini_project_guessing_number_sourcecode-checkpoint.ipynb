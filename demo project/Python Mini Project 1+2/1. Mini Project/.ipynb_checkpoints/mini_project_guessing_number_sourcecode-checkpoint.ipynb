{
 "cells": [
  {
   "cell_type": "code",
   "execution_count": null,
   "metadata": {},
   "outputs": [],
   "source": [
    "import random"
   ]
  },
  {
   "cell_type": "code",
   "execution_count": null,
   "metadata": {},
   "outputs": [],
   "source": [
    "number = random.randint(1,10)\n",
    "number_guess = 0\n",
    "player_name = input(\"Hi! What's your name? \")\n",
    "print(\"Nice to meet you, \", player_name, \". Now we will play guessing game\")"
   ]
  },
  {
   "cell_type": "code",
   "execution_count": 24,
   "metadata": {},
   "outputs": [
    {
     "name": "stdout",
     "output_type": "stream",
     "text": [
      "What number do you guess? 4\n",
      "your guess is too high\n",
      "What number do you guess? 3\n",
      "you got the right number after 3 tries\n"
     ]
    }
   ],
   "source": [
    "while number_guess <= 5:\n",
    "    guess = int(input(\"What number do you guess? \"))\n",
    "    number_guess +=1 # shorter version of number_guess = number_guess + 1\n",
    "    if (guess < number) :\n",
    "        print(\"your guess is too low\")\n",
    "    elif (guess > number):\n",
    "        print(\"your guess is too high\")\n",
    "    elif (guess == number):\n",
    "        print(\"you got the right number after\", number_guess, \"tries\")\n",
    "        break\n",
    "        \n",
    "if (number_guess > 5):\n",
    "    print(\"Gameover!!! The number was\", number)"
   ]
  },
  {
   "cell_type": "code",
   "execution_count": null,
   "metadata": {},
   "outputs": [],
   "source": []
  }
 ],
 "metadata": {
  "kernelspec": {
   "display_name": "Python 3 (ipykernel)",
   "language": "python",
   "name": "python3"
  },
  "language_info": {
   "codemirror_mode": {
    "name": "ipython",
    "version": 3
   },
   "file_extension": ".py",
   "mimetype": "text/x-python",
   "name": "python",
   "nbconvert_exporter": "python",
   "pygments_lexer": "ipython3",
   "version": "3.9.12"
  }
 },
 "nbformat": 4,
 "nbformat_minor": 2
}
