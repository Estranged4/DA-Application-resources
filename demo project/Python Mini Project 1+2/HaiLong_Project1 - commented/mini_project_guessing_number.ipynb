{
 "cells": [
  {
   "cell_type": "markdown",
   "metadata": {},
   "source": [
    "### Bài của em làm tốt rồi nhé, great job :))"
   ]
  },
  {
   "cell_type": "code",
   "execution_count": null,
   "metadata": {},
   "outputs": [],
   "source": [
    "import random"
   ]
  },
  {
   "cell_type": "code",
   "execution_count": null,
   "metadata": {},
   "outputs": [],
   "source": [
    "### Trong project này, chúng ta sẽ làm 1 trò chơi nhỏ mang tên đoán số. Cụ thể, Máy tính sẽ chọn random 1 số từ 1 đến 10 (không in ra màn hình).\n",
    "### Chúng ta sẽ đoán máy tính chọn số bao nhiêu?\n",
    "#### - Nếu số chúng ta đoán thấp hơn máy tính thì in ra \"Your guessing number is too low\"\n",
    "#### - Nếu số chúng ta đoán cao hơn máy tính thì in ra \"Your guessing number is too high\"\n",
    "#### - Nếu chúng ta đoán đúng số thì in ra \"You got the correct number after\" xx \"tries\" trong đó xx là số lần đoán. (xx <= 5)\n",
    "#### - Trường hợp 5 lần đoán sai thì sẽ dừng trò chơi và in ra \"Gameover!!! The correct number is yy\" trong đó yy là số mà máy tính chọn\n",
    "\n",
    "#### Những kiến thức cover trong project này: input(), print(), while loop, if - elif - else, break."
   ]
  },
  {
   "cell_type": "code",
   "execution_count": null,
   "metadata": {},
   "outputs": [],
   "source": [
    "# generate random number\n",
    "guess_limit = 5\n",
    "\n",
    "# input player's name\n",
    "print('Please enter your name:')\n",
    "name = input()\n",
    "\n",
    "# Say hi and welcome player to the guessing game\n",
    "print('Hello,', name)\n",
    "print('Welcome to the guessing game!')"
   ]
  },
  {
   "cell_type": "code",
   "execution_count": null,
   "metadata": {},
   "outputs": [],
   "source": [
    "# generate random number\n",
    "# random.seed(1)\n",
    "result = random.randint(1,11)\n",
    "guess = 0\n",
    "# develop while loop\n",
    "guess_count = 0\n",
    "while guess_count < guess_limit :\n",
    "    guess_count += 1\n",
    "    \n",
    "#   guess = input the number you guess\n",
    "    if guess_count == 1 :\n",
    "        print('Which number do you guess?')\n",
    "    else :\n",
    "        print(str(6 - guess_count), 'more chance:')\n",
    "        \n",
    "    try:\n",
    "        guess = int(input())\n",
    "    except:\n",
    "        print('Guess a number !')\n",
    "        print()\n",
    "        guess_count -= 1\n",
    "        continue\n",
    "    \n",
    "    if not(guess in range(1,11)):\n",
    "        print('The number is between 1 and 10.')\n",
    "        guess_count -= 1\n",
    "        continue\n",
    "        \n",
    "    \n",
    "#   stop the game when you find out the correct number after xx times (xx <= 5) OR the guessing number in your 5th attempt is still wrong\n",
    "    if guess == result :\n",
    "        print('You got the correct number after', str(guess_count), 'tries!')\n",
    "        break\n",
    "    elif guess_count == 5 :\n",
    "        print('Gameover!!! The correct number is', str(result))\n",
    "    elif guess > result:\n",
    "        print('Your guessing number is too high')\n",
    "        print()\n",
    "    else :\n",
    "        print('Your guessing number is too low')\n",
    "        print()"
   ]
  }
 ],
 "metadata": {
  "kernelspec": {
   "display_name": "Python 3",
   "language": "python",
   "name": "python3"
  },
  "language_info": {
   "codemirror_mode": {
    "name": "ipython",
    "version": 3
   },
   "file_extension": ".py",
   "mimetype": "text/x-python",
   "name": "python",
   "nbconvert_exporter": "python",
   "pygments_lexer": "ipython3",
   "version": "3.8.8"
  }
 },
 "nbformat": 4,
 "nbformat_minor": 2
}
