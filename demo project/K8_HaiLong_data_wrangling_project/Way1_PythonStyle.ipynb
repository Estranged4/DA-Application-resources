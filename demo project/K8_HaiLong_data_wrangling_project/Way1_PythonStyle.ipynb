{
 "cells": [
  {
   "cell_type": "markdown",
   "id": "894bd32f",
   "metadata": {},
   "source": [
    "## Way1: Python style"
   ]
  },
  {
   "cell_type": "code",
   "execution_count": 184,
   "id": "327aa804",
   "metadata": {},
   "outputs": [],
   "source": [
    "# Call packages\n",
    "import numpy as np\n",
    "import pandas as pd\n",
    "import datetime as dt"
   ]
  },
  {
   "cell_type": "code",
   "execution_count": 185,
   "id": "c04ec1ce",
   "metadata": {},
   "outputs": [],
   "source": [
    "# Read data\n",
    "prices = pd.read_csv('prices.csv')\n",
    "sales = pd.read_csv('sales.csv')"
   ]
  },
  {
   "cell_type": "code",
   "execution_count": 186,
   "id": "10d609e7",
   "metadata": {},
   "outputs": [],
   "source": [
    "## Standardize datetime type\n",
    "prices['updated_at'] = pd.to_datetime(prices['updated_at'])\n",
    "sales['ordered_at'] = pd.to_datetime(pd.to_datetime(sales['ordered_at']).dt.strftime('%Y-%m-%d %H:%M:%S'))"
   ]
  },
  {
   "cell_type": "code",
   "execution_count": 187,
   "id": "7d5be52a",
   "metadata": {},
   "outputs": [],
   "source": [
    "# ### Define function\n",
    "# Tạo function trả về price trong bảng Prices tương ứng cho mỗi [id, time] trong bảng Sales\n",
    "\n",
    "# ####  Ý tưởng:\n",
    "# - Với mỗi id, lấy mốc Price.updated_at lớn nhất nhưng không vượt quá Sales.time, đó sẽ là mốc để lấy \n",
    "# Sales.price (= new_price)\n",
    "# - Nếu không có mốc nào như vậy, tức là Sales.time nhỏ hơn lần update_at đầu tiên, đơn hàng chưa trải \n",
    "# qua lần update price nào. Sales.price sẽ là old_price của lần update muộn nhất"
   ]
  },
  {
   "cell_type": "code",
   "execution_count": 188,
   "id": "5ae3dae9",
   "metadata": {},
   "outputs": [],
   "source": [
    "## Define function to return price\n",
    "def return_price(id, time):\n",
    "## max_update is the latest price-updated-time, which is not later than Sales.time\n",
    "    max_update = prices[(prices.product_id == id) & (prices.updated_at < time)].updated_at.max()\n",
    "    \n",
    "## If existing a max_update like that, the Sales.price will be the new_price of the latest update time, \n",
    "## or the Prices.new_price\n",
    "    get_price = prices[(prices.product_id == id) & (prices.updated_at == max_update)].new_price\n",
    "    \n",
    "## If not existing a max_update, means Sales.price hasn't been update yet, the Sales.price will be \n",
    "## Prices.old_price of the earliest Prices.update_at\n",
    "    if get_price.empty == True:\n",
    "        min_update = prices[(prices.product_id == id)].updated_at.min()\n",
    "        get_price = prices[(prices.product_id == id) & (prices.updated_at == min_update)].old_price\n",
    "    \n",
    "    return(get_price)"
   ]
  },
  {
   "cell_type": "code",
   "execution_count": 189,
   "id": "86d34853",
   "metadata": {},
   "outputs": [],
   "source": [
    "# ## Create an array for storing price result\n",
    "# price_returned_array = pd.array([0]*len(sales))\n",
    "# for i in sales.index:\n",
    "#     price_returned_array[i] = return_price(sales.product_id[i], sales.ordered_at[i])"
   ]
  },
  {
   "cell_type": "code",
   "execution_count": 190,
   "id": "69feaa7f",
   "metadata": {},
   "outputs": [],
   "source": [
    "## Create an array for storing price result\n",
    "price_returned_array = pd.array([]).astype('int64')\n",
    "for i in sales.index:\n",
    "    price_returned = return_price(sales.product_id[i], sales.ordered_at[i])\n",
    "    price_returned_array = np.append(price_returned_array, price_returned)"
   ]
  },
  {
   "cell_type": "code",
   "execution_count": 191,
   "id": "c5b06ea8",
   "metadata": {},
   "outputs": [],
   "source": [
    "# Có 1 vấn đề ở đây ạ, type trả về của hàm get_price nó vẫn là Series(object), nếu e dùng list để lưu kết \n",
    "# quả của function khi apply vào dataframe thì nó lại ra 1 list of Series(object), e đang phải chuyển \n",
    "# thành lưu sang array\n",
    "\n",
    "# Chạy đoạn này thay vì đoạn dưới:\n",
    "\n",
    "        # price_returned_list = []\n",
    "        # for i in sales.index:\n",
    "        #     price_returned = return_price(sales.product_id[i], sales.ordered_at[i])\n",
    "        #     price_returned_list.append(price_returned)\n",
    "\n",
    "        # sales['price'] = price_returned_list\n",
    "        # sales['revenue'] = sales.quantity_ordered * sales.price\n",
    "\n",
    "# sẽ ra kết quả sales.price là object chứ k phải int, không pivot được, vậy có cách nào hay hơn k ạ"
   ]
  },
  {
   "cell_type": "code",
   "execution_count": 192,
   "id": "15d5ad6e",
   "metadata": {},
   "outputs": [],
   "source": [
    "# E từng thử tạo cột rỗng Sales.price trước, sau đó điền dần data vào:\n",
    "\n",
    "        # sales['price'] = pd.Series(dtype='int')\n",
    "        # for i in sales.index:\n",
    "        #     sales.price[i] = return_price(sales.product_id[i], sales.ordered_at[i])\n",
    "\n",
    "# thì nó báo warning, nhưng data vẫn gắn được:\n",
    "#         SettingWithCopyWarning: \n",
    "#         A value is trying to be set on a copy of a slice from a DataFrame\n",
    "\n",
    "# Tức là mình cũng k nên edit trực tiếp lên dataframe như thế mà nên xử lý trên list/array ngoài trước\n",
    "# sau đó gắn vào sau đúng k ạ?\n"
   ]
  },
  {
   "cell_type": "code",
   "execution_count": 193,
   "id": "52784ef9",
   "metadata": {},
   "outputs": [],
   "source": [
    "## Apply price array to df\n",
    "sales['price'] = price_returned_array\n",
    "sales['revenue'] = sales.quantity_ordered * sales.price\n"
   ]
  },
  {
   "cell_type": "code",
   "execution_count": 194,
   "id": "3e8ba3ca",
   "metadata": {},
   "outputs": [
    {
     "data": {
      "text/html": [
       "<div>\n",
       "<style scoped>\n",
       "    .dataframe tbody tr th:only-of-type {\n",
       "        vertical-align: middle;\n",
       "    }\n",
       "\n",
       "    .dataframe tbody tr th {\n",
       "        vertical-align: top;\n",
       "    }\n",
       "\n",
       "    .dataframe thead th {\n",
       "        text-align: right;\n",
       "    }\n",
       "</style>\n",
       "<table border=\"1\" class=\"dataframe\">\n",
       "  <thead>\n",
       "    <tr style=\"text-align: right;\">\n",
       "      <th></th>\n",
       "      <th></th>\n",
       "      <th>revenue</th>\n",
       "    </tr>\n",
       "    <tr>\n",
       "      <th>product_id</th>\n",
       "      <th>price</th>\n",
       "      <th></th>\n",
       "    </tr>\n",
       "  </thead>\n",
       "  <tbody>\n",
       "    <tr>\n",
       "      <th>64</th>\n",
       "      <th>239000</th>\n",
       "      <td>956000</td>\n",
       "    </tr>\n",
       "    <tr>\n",
       "      <th rowspan=\"3\" valign=\"top\">3954203</th>\n",
       "      <th>57500</th>\n",
       "      <td>57500</td>\n",
       "    </tr>\n",
       "    <tr>\n",
       "      <th>60000</th>\n",
       "      <td>180000</td>\n",
       "    </tr>\n",
       "    <tr>\n",
       "      <th>64000</th>\n",
       "      <td>640000</td>\n",
       "    </tr>\n",
       "    <tr>\n",
       "      <th rowspan=\"3\" valign=\"top\">3998909</th>\n",
       "      <th>15500</th>\n",
       "      <td>15500</td>\n",
       "    </tr>\n",
       "    <tr>\n",
       "      <th>16500</th>\n",
       "      <td>231000</td>\n",
       "    </tr>\n",
       "    <tr>\n",
       "      <th>17000</th>\n",
       "      <td>34000</td>\n",
       "    </tr>\n",
       "    <tr>\n",
       "      <th rowspan=\"6\" valign=\"top\">4085861</th>\n",
       "      <th>52000</th>\n",
       "      <td>1040000</td>\n",
       "    </tr>\n",
       "    <tr>\n",
       "      <th>53500</th>\n",
       "      <td>2140000</td>\n",
       "    </tr>\n",
       "    <tr>\n",
       "      <th>58000</th>\n",
       "      <td>2204000</td>\n",
       "    </tr>\n",
       "    <tr>\n",
       "      <th>60000</th>\n",
       "      <td>180000</td>\n",
       "    </tr>\n",
       "    <tr>\n",
       "      <th>62500</th>\n",
       "      <td>1812500</td>\n",
       "    </tr>\n",
       "    <tr>\n",
       "      <th>67000</th>\n",
       "      <td>871000</td>\n",
       "    </tr>\n",
       "  </tbody>\n",
       "</table>\n",
       "</div>"
      ],
      "text/plain": [
       "                   revenue\n",
       "product_id price          \n",
       "64         239000   956000\n",
       "3954203    57500     57500\n",
       "           60000    180000\n",
       "           64000    640000\n",
       "3998909    15500     15500\n",
       "           16500    231000\n",
       "           17000     34000\n",
       "4085861    52000   1040000\n",
       "           53500   2140000\n",
       "           58000   2204000\n",
       "           60000    180000\n",
       "           62500   1812500\n",
       "           67000    871000"
      ]
     },
     "execution_count": 194,
     "metadata": {},
     "output_type": "execute_result"
    }
   ],
   "source": [
    "## Pivot result\n",
    "sales.pivot_table(\n",
    "    values= 'revenue',\n",
    "    index= ['product_id', 'price'],\n",
    "    aggfunc= sum\n",
    ")"
   ]
  }
 ],
 "metadata": {
  "kernelspec": {
   "display_name": "Python 3",
   "language": "python",
   "name": "python3"
  },
  "language_info": {
   "codemirror_mode": {
    "name": "ipython",
    "version": 3
   },
   "file_extension": ".py",
   "mimetype": "text/x-python",
   "name": "python",
   "nbconvert_exporter": "python",
   "pygments_lexer": "ipython3",
   "version": "3.8.8"
  }
 },
 "nbformat": 4,
 "nbformat_minor": 5
}
